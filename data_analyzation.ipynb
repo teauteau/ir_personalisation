{
 "cells": [
  {
   "cell_type": "code",
   "execution_count": 3,
   "metadata": {},
   "outputs": [],
   "source": [
    "import pandas as pd\n",
    "import numpy as np\n",
    "import matplotlib.pyplot as plt\n",
    "import seaborn as sns"
   ]
  },
  {
   "cell_type": "code",
   "execution_count": 4,
   "metadata": {},
   "outputs": [],
   "source": [
    "news_scores = { \n",
    "    \"dutch\" : {\n",
    "        'Telegraaf' : 3.6,\n",
    "        'Geenstijl' : 3.6,\n",
    "        'RTL' : 3.4,\n",
    "        'NOS' : 3.3,\n",
    "        'NU.nl' : 3.3,\n",
    "        'AD' : 3.4,\n",
    "        'Volkskrant' : 2.9\n",
    "    },\n",
    "\n",
    "    \"german\" : {\n",
    "        'Bild' : 3.1,\n",
    "        'FAZ' : 2.9,\n",
    "        'RTL' : 3.0,\n",
    "        'Sat1' : 3.0,\n",
    "        'Sz' : 2.8,\n",
    "        'ARD' : 2.9,\n",
    "        'Der Spiegel' : 2.8\n",
    "    },   \n",
    "    \"french\" : {\n",
    "        'TF1' : 3.3,\n",
    "        'Le Figaro' : 3.3,\n",
    "        'BFM' : 3.2,\n",
    "        \"L'Express\" : 2.9,\n",
    "        'Le Monde' : 2.9,\n",
    "        'France 2' : 3.1,\n",
    "        'Libération' : 2.5,\n",
    "        'Mediapart' : 2.4\n",
    "    }\n",
    "}\n"
   ]
  },
  {
   "cell_type": "code",
   "execution_count": 5,
   "metadata": {},
   "outputs": [],
   "source": [
    "news_scores = {'dutch': {\n",
    "    'Telegraaf': 1.0,\n",
    "    'Geenstijl': 1.0,\n",
    "    'RTL': 0.6666666666666665,\n",
    "    'NOS': 0.49999999999999956,\n",
    "    'NU.nl': 0.49999999999999956,\n",
    "    'AD': 0.6666666666666665,\n",
    "    'Volkskrant': -0.16666666666666674,\n",
    "    }, 'german': {\n",
    "    'Bild': 0.16666666666666674,\n",
    "    'FAZ': -0.16666666666666674,\n",
    "    'RTL': 0.0,\n",
    "    'Sat1': 0.0,\n",
    "    'Sz': -0.3333333333333336,\n",
    "    'ARD': -0.16666666666666674,\n",
    "    'Der Spiegel': -0.3333333333333336,\n",
    "    }, 'french': {\n",
    "    'TF1': 0.49999999999999956,\n",
    "    'Le Figaro': 0.49999999999999956,\n",
    "    'BFM': 0.3333333333333335,\n",
    "    \"L'Express\": -0.16666666666666674,\n",
    "    'Le Monde': -0.16666666666666674,\n",
    "    'France 2': 0.16666666666666674,\n",
    "    'Libération': -0.8333333333333333,\n",
    "    'Mediapart': -1.0,\n",
    "    }}\n"
   ]
  },
  {
   "cell_type": "code",
   "execution_count": 6,
   "metadata": {},
   "outputs": [],
   "source": [
    "# mean_dutch = sum(news_scores['dutch'].values()) / len(news_scores['dutch'])\n",
    "# mean_german = sum(news_scores['german'].values()) / len(news_scores['german'])\n",
    "# print(f\"Mean for Dutch: {mean_dutch:.3f}\")\n",
    "# print(f\"Mean for German: {mean_german:.3f}\")"
   ]
  },
  {
   "cell_type": "code",
   "execution_count": 7,
   "metadata": {},
   "outputs": [
    {
     "name": "stdout",
     "output_type": "stream",
     "text": [
      "{'dutch': {'Telegraaf': 1.0, 'Geenstijl': 1.0, 'RTL': 0.6666666666666665, 'NOS': 0.49999999999999956, 'NU.nl': 0.49999999999999956, 'AD': 0.6666666666666665, 'Volkskrant': -0.16666666666666674}, 'german': {'Bild': 0.16666666666666674, 'FAZ': -0.16666666666666674, 'RTL': 0.0, 'Sat1': 0.0, 'Sz': -0.3333333333333336, 'ARD': -0.16666666666666674, 'Der Spiegel': -0.3333333333333336}, 'french': {'TF1': 0.49999999999999956, 'Le Figaro': 0.49999999999999956, 'BFM': 0.3333333333333335, \"L'Express\": -0.16666666666666674, 'Le Monde': -0.16666666666666674, 'France 2': 0.16666666666666674, 'Libération': -0.8333333333333333, 'Mediapart': -1.0}}\n"
     ]
    }
   ],
   "source": [
    "# normalizer\n",
    "\n",
    "all_scores = []\n",
    "for language in news_scores.values():\n",
    "    all_scores.extend(language.values())\n",
    "# Step 2: Calculate the overall min and max values\n",
    "min_score = min(all_scores)\n",
    "max_score = max(all_scores)\n",
    "# Step 3: Normalize the scores to the range [-1, 1]\n",
    "normalized_scores = {}\n",
    "for language, sites in news_scores.items():\n",
    "    normalized_scores[language] = {\n",
    "        site: (2 * (score - min_score) / (max_score - min_score)) - 1\n",
    "        for site, score in sites.items()\n",
    "    }\n",
    "# Print the normalized scores\n",
    "print(normalized_scores)"
   ]
  },
  {
   "cell_type": "code",
   "execution_count": 8,
   "metadata": {},
   "outputs": [],
   "source": [
    "scores_per_place = {\n",
    "                    1: 0.28,\n",
    "                    2: 0.25,\n",
    "                    3: 0.22,\n",
    "                    4: 0.15,\n",
    "                    5: 0.10\n",
    "                    }"
   ]
  },
  {
   "cell_type": "code",
   "execution_count": 9,
   "metadata": {},
   "outputs": [],
   "source": [
    "def process_score(row, start, xend, language):\n",
    "    scores = news_scores[language]\n",
    "    score = 0\n",
    "    nr_of_found = 0\n",
    "    for site in row.index[start+1:xend+1]:\n",
    "        # print(site)\n",
    "        site_stripped = site[:-2] \n",
    "        site_place = row[site]\n",
    "        if site_place != 0:\n",
    "            if isinstance(site_place, str):\n",
    "                    if ',' in site_place:\n",
    "                        splitted = site_place.split(',')\n",
    "                        for spl in splitted:\n",
    "                            score += scores[site_stripped]\n",
    "                            nr_of_found+=1\n",
    "                            \n",
    "                    else:\n",
    "                        site_place = int(site_place)\n",
    "                        score += scores[site_stripped]\n",
    "                        nr_of_found+=1\n",
    "            else:\n",
    "                score += scores[site_stripped]\n",
    "                nr_of_found+=1\n",
    "    if score != 0:\n",
    "        score = score/nr_of_found\n",
    "    else:\n",
    "        score = 0\n",
    "    return score"
   ]
  },
  {
   "cell_type": "code",
   "execution_count": 10,
   "metadata": {},
   "outputs": [],
   "source": [
    "def compute_scores(df, lang):\n",
    "    # compute score per query\n",
    "    df['score-c'] = df.apply(\n",
    "            lambda row: process_score(row, 0, 7, lang), axis=1\n",
    "        )\n",
    "    df['score-d'] = df.apply(\n",
    "            lambda row: process_score(row, 7, 14, lang), axis=1\n",
    "        )\n",
    "    df['score-g'] = df.apply(\n",
    "            lambda row: process_score(row, 14, 21, lang), axis=1\n",
    "        )\n",
    "\n",
    "    # compute avg\n",
    "    # Replace 0 with NaN for specific columns\n",
    "    cols_to_average = ['score-c', 'score-d', 'score-g']\n",
    "    df[cols_to_average] = df[cols_to_average].replace(0, pd.NA)\n",
    "    df['score-avg'] = df[cols_to_average].mean(axis=1)\n",
    "    return df"
   ]
  },
  {
   "cell_type": "code",
   "execution_count": 11,
   "metadata": {},
   "outputs": [],
   "source": [
    "def calculate_stats(data):\n",
    "    data = np.sort(data)\n",
    "    \n",
    "    # Basic boxplot statistics\n",
    "    min_val = round(np.min(data), 2)\n",
    "    max_val = round(np.max(data), 2)\n",
    "    q1 = round(np.percentile(data, 25), 2)\n",
    "    median = round(np.median(data), 2)\n",
    "    q3 = round(np.percentile(data, 75), 2)\n",
    "    mean = round(np.mean(data), 2)\n",
    "    \n",
    "    # Interquartile range (IQR)\n",
    "    iqr = round(q3 - q1, 2)\n",
    "    \n",
    "    # Whiskers\n",
    "    lower_whisker = round(max(min_val, q1 - 1.5 * iqr), 2)\n",
    "    upper_whisker = round(min(max_val, q3 + 1.5 * iqr), 2)\n",
    "    \n",
    "    # Outliers\n",
    "    lower_outliers = [x for x in data if x < q1 - 1.5 * iqr]\n",
    "    upper_outliers = [x for x in data if x > q3 + 1.5 * iqr]\n",
    "    \n",
    "    # Variance\n",
    "    variance = round(np.var(data, ddof=0), 2)  # Use ddof=0 for population variance\n",
    "\n",
    "    # Organize results into a dictionary\n",
    "    stats = {\n",
    "        'min': min_val,\n",
    "        'max': max_val,\n",
    "        '25th_percentile (Q1)': q1,\n",
    "        'median (Q2)': median,\n",
    "        '75th_percentile (Q3)': q3,\n",
    "        'mean': mean,\n",
    "        'IQR': iqr,\n",
    "        'lower_whisker': lower_whisker,\n",
    "        'upper_whisker': upper_whisker,\n",
    "        'lower_outliers': lower_outliers,\n",
    "        'upper_outliers': upper_outliers,\n",
    "        'variance': variance\n",
    "    }\n",
    "    \n",
    "    return stats\n",
    "\n",
    "def plot_avg(df, title):\n",
    "\n",
    "    plt.figure(figsize=(8, 2))\n",
    "    # plt.scatter(df['score-avg'], [0] * len(df), color='b', alpha=0.7)\n",
    "    sns.boxplot(x=df['score-avg'], color='#8ecae6', zorder=1)\n",
    "    plt.scatter(df['score-avg'], [0] * len(df), color='#023e8a', alpha=0.9, s=50, zorder=2)\n",
    "\n",
    "    # offset = 0.007  # Offset value to prevent overlap\n",
    "    # for i, value in enumerate(df['score-avg']):\n",
    "    #     # Adjust the y position slightly for each label to avoid overlap\n",
    "    #     plt.text(value, (-offset * (i + 1)) -0.04, str(df['Participant'].iloc[i]), \n",
    "    #             horizontalalignment='center', verticalalignment='top', \n",
    "    #             color='black', size=8)\n",
    "    \n",
    "    plt.xlim(-1, 1)\n",
    "    plt.xlabel('Score Average')\n",
    "    plt.title(title)\n",
    "    plt.grid(axis='x', linestyle='--', alpha=0.5)\n",
    "    plt.show()\n",
    "    \n",
    "    stats = calculate_stats(df['score-avg'])\n",
    "    for key, value in stats.items():\n",
    "        print(key, value)\n"
   ]
  },
  {
   "cell_type": "code",
   "execution_count": 12,
   "metadata": {},
   "outputs": [],
   "source": [
    "file_path_dutch = \"IR_data_Dutch.csv\"\n",
    "file_path_german = \"IR_data_German.csv\"\n",
    "file_path_french = \"IR_data_French.csv\"\n",
    "\n",
    "dutch_df = pd.read_csv(file_path_dutch)\n",
    "dutch_df = dutch_df.fillna(0)\n",
    "\n",
    "german_df = pd.read_csv(file_path_german)\n",
    "german_df = german_df.fillna(0)\n",
    "\n",
    "french_df = pd.read_csv(file_path_french)\n",
    "french_df = french_df.fillna(0)\n",
    "\n",
    "# print(dutch_df)\n",
    "\n",
    "dutch_df_extended = compute_scores(dutch_df, 'dutch')\n",
    "german_df_extended = compute_scores(german_df, 'german')\n",
    "french_df_extended = compute_scores(french_df, 'french')"
   ]
  },
  {
   "cell_type": "code",
   "execution_count": 13,
   "metadata": {},
   "outputs": [
    {
     "name": "stdout",
     "output_type": "stream",
     "text": [
      "14\n",
      "14\n"
     ]
    }
   ],
   "source": [
    "df_together = pd.concat([dutch_df_extended, german_df_extended], ignore_index=True)\n",
    "df_together = pd.concat([df_together, french_df_extended], ignore_index=True)\n",
    "df_m = df_together[df_together['Gender'] == 'm']  # Male DataFrame\n",
    "df_f = df_together[df_together['Gender'] == 'f']  # Female DataFrame\n",
    "print(len(df_m))\n",
    "print(len(df_f))\n"
   ]
  },
  {
   "cell_type": "code",
   "execution_count": 14,
   "metadata": {},
   "outputs": [
    {
     "data": {
      "image/png": "[encoded data removed]",
      "text/plain": [
       "<Figure size 432x288 with 1 Axes>"
      ]
     },
     "metadata": {
      "needs_background": "light"
     },
     "output_type": "display_data"
    }
   ],
   "source": [
    "import pandas as pd\n",
    "import seaborn as sns\n",
    "import matplotlib.pyplot as plt\n",
    "from matplotlib.lines import Line2D  # Import for custom legend line\n",
    "\n",
    "\n",
    "# Assuming 'df' is your pandas DataFrame\n",
    "# sns.set_palette(\"Blues\")  # You can use other palettes like \"Set1\", \"viridis\", etc.\n",
    "\n",
    "# Create the count plot\n",
    "ax = sns.countplot(x='Nationality', data=df_together, color='#8ecae6')\n",
    "\n",
    "# Add labels and title for better readability\n",
    "plt.xlabel('Nationality')\n",
    "plt.ylabel('Number of participants')\n",
    "# plt.title('Count of Each Nationality')\n",
    "\n",
    "# Annotate each bar with the actual count\n",
    "for p in ax.patches:\n",
    "    ax.annotate(f'{p.get_height():.0f}', \n",
    "                (p.get_x() + p.get_width() / 2., p.get_height()), \n",
    "                ha='center', va='center', \n",
    "                fontsize=12, color='black', \n",
    "                xytext=(0, -10), textcoords='offset points')\n",
    "\n",
    "threshold_line = ax.axhline(y=9.8, color='#880808', linestyle='--', linewidth=2)\n",
    "\n",
    "\n",
    "# Create a custom legend entry for the threshold line\n",
    "custom_legend = [Line2D([0], [0], color='#880808', linestyle='--', linewidth=2, label='Threshold')]\n",
    "\n",
    "# Add the custom legend to the plot\n",
    "ax.legend(handles=custom_legend)\n",
    "\n",
    "# Show the plot\n",
    "plt.show()"
   ]
  },
  {
   "cell_type": "code",
   "execution_count": 15,
   "metadata": {},
   "outputs": [
    {
     "data": {
      "image/png": "[encoded data removed]",
      "text/plain": [
       "<Figure size 576x144 with 1 Axes>"
      ]
     },
     "metadata": {
      "needs_background": "light"
     },
     "output_type": "display_data"
    },
    {
     "name": "stdout",
     "output_type": "stream",
     "text": [
      "min -0.25\n",
      "max 0.61\n",
      "25th_percentile (Q1) 0.02\n",
      "median (Q2) 0.5\n",
      "75th_percentile (Q3) 0.53\n",
      "mean 0.32\n",
      "IQR 0.51\n",
      "lower_whisker -0.25\n",
      "upper_whisker 0.61\n",
      "lower_outliers []\n",
      "upper_outliers []\n",
      "variance 0.1\n"
     ]
    },
    {
     "data": {
      "image/png": "[encoded data removed]",
      "text/plain": [
       "<Figure size 576x144 with 1 Axes>"
      ]
     },
     "metadata": {
      "needs_background": "light"
     },
     "output_type": "display_data"
    },
    {
     "name": "stdout",
     "output_type": "stream",
     "text": [
      "min -0.33\n",
      "max 0.67\n",
      "25th_percentile (Q1) -0.3\n",
      "median (Q2) -0.0\n",
      "75th_percentile (Q3) 0.48\n",
      "mean 0.08\n",
      "IQR 0.78\n",
      "lower_whisker -0.33\n",
      "upper_whisker 0.67\n",
      "lower_outliers []\n",
      "upper_outliers []\n",
      "variance 0.14\n"
     ]
    },
    {
     "data": {
      "image/png": "[encoded data removed]",
      "text/plain": [
       "<Figure size 576x144 with 1 Axes>"
      ]
     },
     "metadata": {
      "needs_background": "light"
     },
     "output_type": "display_data"
    },
    {
     "name": "stdout",
     "output_type": "stream",
     "text": [
      "min -0.25\n",
      "max 0.61\n",
      "25th_percentile (Q1) 0.02\n",
      "median (Q2) 0.5\n",
      "75th_percentile (Q3) 0.53\n",
      "mean 0.32\n",
      "IQR 0.51\n",
      "lower_whisker -0.25\n",
      "upper_whisker 0.61\n",
      "lower_outliers []\n",
      "upper_outliers []\n",
      "variance 0.1\n"
     ]
    },
    {
     "data": {
      "image/png": "[encoded data removed]",
      "text/plain": [
       "<Figure size 576x144 with 1 Axes>"
      ]
     },
     "metadata": {
      "needs_background": "light"
     },
     "output_type": "display_data"
    },
    {
     "name": "stdout",
     "output_type": "stream",
     "text": [
      "min -0.33\n",
      "max 0.67\n",
      "25th_percentile (Q1) -0.3\n",
      "median (Q2) -0.0\n",
      "75th_percentile (Q3) 0.48\n",
      "mean 0.08\n",
      "IQR 0.78\n",
      "lower_whisker -0.33\n",
      "upper_whisker 0.67\n",
      "lower_outliers []\n",
      "upper_outliers []\n",
      "variance 0.14\n"
     ]
    }
   ],
   "source": [
    "plot_avg(df_m, \"Boxplot of Men score averages\")\n",
    "plot_avg(df_f, \"Boxplot of Woman score averages\")\n",
    "plot_avg(df_m, \"\")\n",
    "plot_avg(df_f, \"\")"
   ]
  },
  {
   "cell_type": "code",
   "execution_count": 16,
   "metadata": {},
   "outputs": [
    {
     "data": {
      "image/png": "[encoded data removed]",
      "text/plain": [
       "<Figure size 576x144 with 1 Axes>"
      ]
     },
     "metadata": {
      "needs_background": "light"
     },
     "output_type": "display_data"
    },
    {
     "name": "stdout",
     "output_type": "stream",
     "text": [
      "min 0.33\n",
      "max 0.67\n",
      "25th_percentile (Q1) 0.49\n",
      "median (Q2) 0.53\n",
      "75th_percentile (Q3) 0.56\n",
      "mean 0.53\n",
      "IQR 0.07\n",
      "lower_whisker 0.38\n",
      "upper_whisker 0.66\n",
      "lower_outliers [0.3333333333333331]\n",
      "upper_outliers [0.6666666666666665]\n",
      "variance 0.01\n"
     ]
    },
    {
     "data": {
      "image/png": "[encoded data removed]",
      "text/plain": [
       "<Figure size 576x144 with 1 Axes>"
      ]
     },
     "metadata": {
      "needs_background": "light"
     },
     "output_type": "display_data"
    },
    {
     "name": "stdout",
     "output_type": "stream",
     "text": [
      "min -0.33\n",
      "max -0.13\n",
      "25th_percentile (Q1) -0.3\n",
      "median (Q2) -0.25\n",
      "75th_percentile (Q3) -0.18\n",
      "mean -0.24\n",
      "IQR 0.12\n",
      "lower_whisker -0.33\n",
      "upper_whisker -0.13\n",
      "lower_outliers []\n",
      "upper_outliers []\n",
      "variance 0.0\n"
     ]
    },
    {
     "data": {
      "image/png": "[encoded data removed]",
      "text/plain": [
       "<Figure size 576x144 with 1 Axes>"
      ]
     },
     "metadata": {
      "needs_background": "light"
     },
     "output_type": "display_data"
    },
    {
     "name": "stdout",
     "output_type": "stream",
     "text": [
      "min 0.17\n",
      "max 0.5\n",
      "25th_percentile (Q1) 0.17\n",
      "median (Q2) 0.17\n",
      "75th_percentile (Q3) 0.33\n",
      "mean 0.28\n",
      "IQR 0.16\n",
      "lower_whisker 0.17\n",
      "upper_whisker 0.5\n",
      "lower_outliers []\n",
      "upper_outliers []\n",
      "variance 0.02\n"
     ]
    },
    {
     "data": {
      "image/png": "[encoded data removed]",
      "text/plain": [
       "<Figure size 576x144 with 1 Axes>"
      ]
     },
     "metadata": {
      "needs_background": "light"
     },
     "output_type": "display_data"
    },
    {
     "name": "stdout",
     "output_type": "stream",
     "text": [
      "min 0.33\n",
      "max 0.67\n",
      "25th_percentile (Q1) 0.49\n",
      "median (Q2) 0.53\n",
      "75th_percentile (Q3) 0.56\n",
      "mean 0.53\n",
      "IQR 0.07\n",
      "lower_whisker 0.38\n",
      "upper_whisker 0.66\n",
      "lower_outliers [0.3333333333333331]\n",
      "upper_outliers [0.6666666666666665]\n",
      "variance 0.01\n"
     ]
    },
    {
     "data": {
      "image/png": "[encoded data removed]",
      "text/plain": [
       "<Figure size 576x144 with 1 Axes>"
      ]
     },
     "metadata": {
      "needs_background": "light"
     },
     "output_type": "display_data"
    },
    {
     "name": "stdout",
     "output_type": "stream",
     "text": [
      "min -0.33\n",
      "max -0.13\n",
      "25th_percentile (Q1) -0.3\n",
      "median (Q2) -0.25\n",
      "75th_percentile (Q3) -0.18\n",
      "mean -0.24\n",
      "IQR 0.12\n",
      "lower_whisker -0.33\n",
      "upper_whisker -0.13\n",
      "lower_outliers []\n",
      "upper_outliers []\n",
      "variance 0.0\n"
     ]
    },
    {
     "data": {
      "image/png": "[encoded data removed]",
      "text/plain": [
       "<Figure size 576x144 with 1 Axes>"
      ]
     },
     "metadata": {
      "needs_background": "light"
     },
     "output_type": "display_data"
    },
    {
     "name": "stdout",
     "output_type": "stream",
     "text": [
      "min 0.17\n",
      "max 0.5\n",
      "25th_percentile (Q1) 0.17\n",
      "median (Q2) 0.17\n",
      "75th_percentile (Q3) 0.33\n",
      "mean 0.28\n",
      "IQR 0.16\n",
      "lower_whisker 0.17\n",
      "upper_whisker 0.5\n",
      "lower_outliers []\n",
      "upper_outliers []\n",
      "variance 0.02\n"
     ]
    }
   ],
   "source": [
    "plot_avg(dutch_df_extended, \"Boxplot of Dutch score averages\")\n",
    "plot_avg(german_df_extended, \"Boxplot of German score averages\")\n",
    "plot_avg(french_df_extended, \"Boxplot of French score averages\")\n",
    "plot_avg(dutch_df_extended, \"\")\n",
    "plot_avg(german_df_extended, \"\")\n",
    "plot_avg(french_df_extended, \"\")"
   ]
  },
  {
   "cell_type": "code",
   "execution_count": 76,
   "metadata": {},
   "outputs": [
    {
     "name": "stdout",
     "output_type": "stream",
     "text": [
      "Top 3 for Corona:\n",
      "       Website  Count  Cumulative\n",
      "6  Volkskrant   13.0   -2.166667\n",
      "0          AD   12.0    8.000000\n",
      "2         NOS    3.0    1.500000 total_score =  0.26190476190476175\n",
      "\n",
      "Top 3 for Donald Trump:\n",
      "      Website  Count  Cumulative\n",
      "5  Telegraaf   12.0   12.000000\n",
      "0         AD   10.0    6.666667\n",
      "2        NOS    4.0    2.000000 total_score =  0.738095238095238\n",
      "\n",
      "Top 3 for Gaza:\n",
      "      Website  Count  Cumulative\n",
      "3      NU.nl   11.0    5.500000\n",
      "0         AD    5.0    3.333333\n",
      "5  Telegraaf    5.0    5.000000 total_score =  0.4940476190476188\n",
      "{'Corona': 0.26190476190476175, 'Donald Trump': 0.738095238095238, 'Gaza': 0.4940476190476188}\n",
      "Top 3 for Corona:\n",
      "        Website  Count  Cumulative\n",
      "2  Der Spiegel    7.0   -2.333333\n",
      "0          ARD    6.0   -1.000000\n",
      "6           Sz    4.0   -1.333333 total_score =  -0.2745098039215688\n",
      "\n",
      "Top 3 for Donald Trump:\n",
      "        Website  Count  Cumulative\n",
      "2  Der Spiegel    6.0   -2.000000\n",
      "3          FAZ    2.0   -0.333333\n",
      "1         Bild    1.0    0.166667 total_score =  -0.127450980392157\n",
      "\n",
      "Top 3 for Gaza:\n",
      "        Website  Count  Cumulative\n",
      "2  Der Spiegel    8.0   -2.666667\n",
      "3          FAZ    6.0   -1.000000\n",
      "6           Sz    1.0   -0.333333 total_score =  -0.235294117647059\n",
      "{'Corona': -0.2745098039215688, 'Donald Trump': -0.127450980392157, 'Gaza': -0.235294117647059}\n"
     ]
    }
   ],
   "source": [
    "\n",
    "def top_sites(c, d, g, lang):\n",
    "\n",
    "    \n",
    "    top3_scores = (\n",
    "        pd.DataFrame({'C': c, 'D': d, 'G': g})\n",
    "        .reset_index()\n",
    "        .rename(columns={'index': 'Website'})\n",
    "        .assign(Website=lambda x: x['Website'].str[:-2])\n",
    "        .groupby('Website', as_index=False)\n",
    "        .sum()\n",
    "    )\n",
    "    \n",
    "\n",
    "\n",
    "    top3_c = top3_scores.nlargest(3, 'C')[['Website', 'C']].rename(columns={'C': 'Count'})\n",
    "    top3_c[['Cumulative']] = top3_c.apply(lambda row: row[['Count']] * news_scores[lang].get(row['Website'], 1), axis=1)\n",
    "    top3_d = top3_scores.nlargest(3, 'D')[['Website', 'D']].rename(columns={'D': 'Count'})\n",
    "    top3_d[['Cumulative']] = top3_d.apply(lambda row: row[['Count']] * news_scores[lang].get(row['Website'], 1), axis=1)\n",
    "\n",
    "    top3_g = top3_scores.nlargest(3, 'G')[['Website', 'G']].rename(columns={'G': 'Count'})\n",
    "    top3_g[['Cumulative']] = top3_g.apply(lambda row: row[['Count']] * news_scores[lang].get(row['Website'], 1), axis=1)\n",
    "\n",
    "\n",
    "    # top3_d = top3_scores.nlargest(3, 'D')[['Website', 'D']].rename(columns={'D': 'Count'})\n",
    "    # top3_g = top3_scores.nlargest(3, 'G')[['Website', 'G']].rename(columns={'G': 'Count'})\n",
    "    total_score_c = top3_c['Cumulative'].sum()\n",
    "    total_score_d = top3_d['Cumulative'].sum()\n",
    "    total_score_g = top3_g['Cumulative'].sum()\n",
    "\n",
    "    count_c = top3_c['Count'].sum()\n",
    "    count_d = top3_c['Count'].sum()\n",
    "    count_g = top3_c['Count'].sum()\n",
    "    scrs = {}\n",
    "    scrs[\"Corona\"] = total_score_c/count_c\n",
    "    scrs[\"Donald Trump\"] = total_score_d/count_d\n",
    "    scrs[\"Gaza\"] = total_score_g/count_g\n",
    "    \n",
    "    # Display top 3 for each column\n",
    "    print(\"Top 3 for Corona:\\n\", top3_c, \"total_score = \", total_score_c/count_c)\n",
    "    print(\"\\nTop 3 for Donald Trump:\\n\", top3_d, \"total_score = \", total_score_d/count_d)\n",
    "    print(\"\\nTop 3 for Gaza:\\n\", top3_g, \"total_score = \", total_score_g/count_g)\n",
    "    return top3_c, top3_d, top3_g, scrs\n",
    "\n",
    "c = (dutch_df_extended.iloc[:, 1:8] != 0).sum(axis=0)\n",
    "d = (dutch_df_extended.iloc[:, 8:15] != 0).sum(axis=0)\n",
    "g = (dutch_df_extended.iloc[:, 15:22] != 0).sum(axis=0)\n",
    "top3_c, top3_d, top3_g, scrs_d = top_sites(c, d, g, 'dutch')\n",
    "print(scrs_d)\n",
    "c = (german_df_extended.iloc[:, 1:8] != 0).sum(axis=0)\n",
    "d = (german_df_extended.iloc[:, 8:15] != 0).sum(axis=0)\n",
    "g = (german_df_extended.iloc[:, 15:22] != 0).sum(axis=0)\n",
    "top3_c_g, top3_d_g, top3_g_g, scrs_g = top_sites(c, d, g, 'german')\n",
    "print(scrs_g)\n",
    "\n",
    "\n",
    "\n"
   ]
  },
  {
   "cell_type": "code",
   "execution_count": 77,
   "metadata": {},
   "outputs": [
    {
     "name": "stdout",
     "output_type": "stream",
     "text": [
      "{'Corona': 0.26190476190476175, 'Donald Trump': 0.738095238095238, 'Gaza': 0.4940476190476188}\n"
     ]
    }
   ],
   "source": [
    "print(scrs_d)"
   ]
  },
  {
   "cell_type": "code",
   "execution_count": 106,
   "metadata": {},
   "outputs": [
    {
     "data": {
      "image/png": "[encoded data removed]",
      "text/plain": [
       "<Figure size 576x144 with 1 Axes>"
      ]
     },
     "metadata": {
      "needs_background": "light"
     },
     "output_type": "display_data"
    }
   ],
   "source": [
    "import matplotlib.pyplot as plt\n",
    "\n",
    "# Example dictionary\n",
    "data = scrs_d\n",
    "keywords = list(data.keys())\n",
    "scores = list(data.values())\n",
    "\n",
    "data_g = scrs_g\n",
    "keywords_g = list(data_g.keys())\n",
    "scores_g = list(data_g.values())\n",
    "\n",
    "# Plotting the scatter plot\n",
    "plt.figure(figsize=(8, 2))\n",
    "plt.scatter(scores, [0] * len(scores), color='#023e8a', alpha=0.9, s=50, zorder=2, label='Dutch')\n",
    "plt.scatter(scores_g, [0] * len(scores_g), color='red', alpha=0.9, s=50, zorder=2, label='German')\n",
    "\n",
    "\n",
    "\n",
    "\n",
    "# Add keyword labels at each point\n",
    "for i, keyword in enumerate(keywords):\n",
    "    plt.text(scores[i], 0.01, keyword, ha='center', va='bottom', fontsize=10)\n",
    "    \n",
    "for i, keyword in enumerate(keywords_g):\n",
    "    if i == 2:\n",
    "        plt.text(scores_g[i], -0.008, keyword, ha='center', va='top', fontsize=10)\n",
    "    else:\n",
    "        plt.text(scores_g[i], 0.01, keyword, ha='center', va='bottom', fontsize=10)\n",
    "    \n",
    "\n",
    "\n",
    "# Adding labels and customizing the plot\n",
    "# plt.xlim(-1, 1)\n",
    "plt.xlabel('Political lean score Average')\n",
    "plt.yticks([])\n",
    "plt.grid(axis='x', linestyle='--', alpha=0.5)\n",
    "plt.legend(title='Language', loc='upper right', bbox_to_anchor=(1.2, 0.5))\n",
    "\n",
    "\n",
    "# Show plot\n",
    "plt.show()"
   ]
  },
  {
   "cell_type": "code",
   "execution_count": null,
   "metadata": {},
   "outputs": [
    {
     "data": {
      "image/png": "[encoded data removed]",
      "text/plain": [
       "<Figure size 864x432 with 1 Axes>"
      ]
     },
     "metadata": {
      "needs_background": "light"
     },
     "output_type": "display_data"
    },
    {
     "data": {
      "image/png": "[encoded data removed]",
      "text/plain": [
       "<Figure size 864x432 with 1 Axes>"
      ]
     },
     "metadata": {
      "needs_background": "light"
     },
     "output_type": "display_data"
    }
   ],
   "source": [
    "import pandas as pd\n",
    "import matplotlib.pyplot as plt\n",
    "import numpy as np\n",
    "import matplotlib.patches as mpatches\n",
    "import matplotlib.colors as mcolors\n",
    "import colorsys\n",
    "\n",
    "def generate_distinct_colors(n):\n",
    "    \"\"\"\n",
    "    Generate a list of visually distinct colors for n websites.\n",
    "    \n",
    "    Args:\n",
    "    n (int): Number of distinct colors to generate\n",
    "    \n",
    "    Returns:\n",
    "    list: List of color hex codes\n",
    "    \"\"\"\n",
    "    # Start with a base set of distinct colors\n",
    "    base_colors = [\n",
    "        '#1f77b4', '#ff7f0e', '#2ca02c', '#d62728', '#9467bd', \n",
    "        '#8c564b', '#e377c2', '#7f7f7f', '#bcbd22', '#17becf'\n",
    "    ]\n",
    "    \n",
    "    # If we need more colors than base colors, generate additional ones\n",
    "    if n > len(base_colors):\n",
    "        # Generate additional colors using HSV color space\n",
    "        hue_step = 1.0 / (n - len(base_colors) + 1)\n",
    "        for i in range(len(base_colors), n):\n",
    "            hue = (i * hue_step) % 1.0\n",
    "            # Use distinct saturation and value to create variety\n",
    "            sat = 0.7 + 0.3 * ((i % 3) / 2)\n",
    "            val = 0.7 + 0.3 * ((i % 2))\n",
    "            rgb = colorsys.hsv_to_rgb(hue, sat, val)\n",
    "            base_colors.append(mcolors.to_hex(rgb))\n",
    "    \n",
    "    return base_colors[:n]\n",
    "\n",
    "def create_grouped_bar_plot(dataframes, group_names, lang, legend_loc):\n",
    "    \"\"\"\n",
    "    Create a grouped horizontal bar plot with dynamically generated colors.\n",
    "    \n",
    "    Args:\n",
    "    dataframes (list): List of DataFrames, each representing a group\n",
    "    group_names (list): List of group names\n",
    "    \n",
    "    Returns:\n",
    "    matplotlib figure\n",
    "    \"\"\"\n",
    "    # Collect all unique websites\n",
    "    all_websites = list(set([website for df in dataframes for website in df['Website']]))\n",
    "    \n",
    "    # Generate color map for websites\n",
    "    color_map = dict(zip(all_websites, generate_distinct_colors(len(all_websites))))\n",
    "    \n",
    "    # Prepare data and colors\n",
    "    y_positions = []\n",
    "    counts = []\n",
    "    colors = []\n",
    "    y_labels = []\n",
    "    current_y = 0\n",
    "    \n",
    "    for i, (df, group) in enumerate(zip(dataframes, group_names)):\n",
    "        group_websites = df['Website'].tolist()\n",
    "        group_counts = df['Count'].tolist()\n",
    "        \n",
    "        # Add group's websites and counts\n",
    "        y_positions.extend(range(current_y, current_y + len(group_websites)))\n",
    "        counts.extend(group_counts)\n",
    "        colors.extend([color_map[website] for website in group_websites])\n",
    "        y_labels.extend(group_websites)\n",
    "        \n",
    "        # Add group label text position\n",
    "        current_y += len(group_websites) + 1\n",
    "    \n",
    "    # Create the figure and axis\n",
    "    plt.figure(figsize=(12, 6))\n",
    "    \n",
    "    # Create the horizontal bar plot\n",
    "    bars = plt.barh(y_positions, counts, height=0.8, color=colors)\n",
    "    \n",
    "    # Customize the plot\n",
    "    plt.xlabel('Count')\n",
    "    # plt.title(f'{lang} Website Counts Per Query')\n",
    "    \n",
    "    # Set y-ticks to website names\n",
    "    plt.yticks(y_positions, y_labels)\n",
    "    \n",
    "    # Add count labels next to each bar\n",
    "    for i, count in enumerate(counts):\n",
    "        plt.text(count, y_positions[i], str(count), va='center')\n",
    "    \n",
    "    # Add group labels\n",
    "    current_y = 0\n",
    "    for group in group_names:\n",
    "        plt.text(plt.gca().get_xlim()[1], current_y + 0.5, group, \n",
    "                 ha='left', va='center', fontweight='bold')\n",
    "        current_y += len([df for df in dataframes if len(df) > 0]) + 1\n",
    "    \n",
    "    # Create legend patches\n",
    "    legend_patches = [mpatches.Patch(color=color_map[website], label=website) for website in all_websites]\n",
    "    \n",
    "    # Add legend\n",
    "    plt.legend(handles=legend_patches, \n",
    "               title='Websites', \n",
    "               loc=legend_loc, \n",
    "               bbox_to_anchor=(1, 0.5))\n",
    "    \n",
    "    plt.tight_layout()\n",
    "    return plt\n",
    "\n",
    "# Example usage\n",
    "# top3_c = pd.DataFrame({'Website': ['Volkskrant', 'Telegraaf', 'AD'], 'Count': [30, 25, 20]})\n",
    "# top3_d = pd.DataFrame({'Website': ['Volkskrant', 'AD', 'Telegraaf'], 'Count': [12, 10, 8]})\n",
    "# top3_g = pd.DataFrame({'Website': ['Volkskrant', 'AD', 'Nu.nl'], 'Count': [15, 7, 3]})\n",
    "\n",
    "# Create and show the plot\n",
    "plot = create_grouped_bar_plot([top3_c, top3_d, top3_g], ['\"Corona\"', '\"Donald Trump\"', '\"Gaza\"'], \"Dutch\", 'lower right')\n",
    "plot.show()\n",
    "plot = create_grouped_bar_plot([top3_c_g, top3_d_g, top3_g_g], ['\"Corona\"', '\"Donald Trump\"', '\"Gaza\"'], \"German\", 'upper right')\n",
    "plot.show()"
   ]
  },
  {
   "cell_type": "code",
   "execution_count": null,
   "metadata": {},
   "outputs": [],
   "source": []
  }
 ],
 "metadata": {
  "kernelspec": {
   "display_name": "Python 3",
   "language": "python",
   "name": "python3"
  },
  "language_info": {
   "codemirror_mode": {
    "name": "ipython",
    "version": 3
   },
   "file_extension": ".py",
   "mimetype": "text/x-python",
   "name": "python",
   "nbconvert_exporter": "python",
   "pygments_lexer": "ipython3",
   "version": "3.8.2"
  }
 },
 "nbformat": 4,
 "nbformat_minor": 2
}
